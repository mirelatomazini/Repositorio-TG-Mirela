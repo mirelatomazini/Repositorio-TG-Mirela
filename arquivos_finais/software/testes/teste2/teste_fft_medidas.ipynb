{
 "cells": [
  {
   "cell_type": "code",
   "execution_count": 93,
   "metadata": {
    "ExecuteTime": {
     "end_time": "2021-10-20T00:54:07.025725Z",
     "start_time": "2021-10-20T00:54:06.677502Z"
    }
   },
   "outputs": [],
   "source": [
    "import matplotlib.pyplot as plt\n",
    "import numpy as np"
   ]
  },
  {
   "cell_type": "code",
   "execution_count": 96,
   "metadata": {
    "ExecuteTime": {
     "end_time": "2021-10-20T00:54:07.036602Z",
     "start_time": "2021-10-20T00:54:07.028415Z"
    }
   },
   "outputs": [],
   "source": [
    "with open('teste2_1d_2k') as f:\n",
    "    lines = f.readlines()"
   ]
  },
  {
   "cell_type": "code",
   "execution_count": 100,
   "metadata": {
    "ExecuteTime": {
     "end_time": "2021-10-20T00:54:07.092918Z",
     "start_time": "2021-10-20T00:54:07.038380Z"
    }
   },
   "outputs": [
    {
     "name": "stdout",
     "output_type": "stream",
     "text": [
      "2484 2478 2443 2386 2318 2320 2331 2304 2229 2235 2215 2155 2184 2088 2137 2058 2075 2020 1958 1980 1952 1914 1856 1864 1822 1800 1797 1774 1711 1664 1677 1641 1569 1612 1548 1514 1507 1453 1431 1452 1394 1392 1320 1311 1275 1251 1247 1217 1190 1163 1133 1116 1093 1065 1051 1032 1000 974 956 943 923 903 884 846 851 821 799 783 761 758 737 728 717 671 669 656 646 628 624 621 613 579 567 569 575 552 548 549 537 533 508 498 515 507 508 514 502 493 498 497 490 487 503 489 487 498 496 511 512 503 521 523 532 538 561 574 558 592 589 599 609 613 635 643 670 664 689 708 710 741 744 764 778 806 819 845 868 864 898 908 931 952 968 1001 1007 1033 1072 1074 1111 1129 1171 1190 1206 1240 1251 1287 1300 1341 1346 1405 1431 1440 1462 1500 1522 1538 1565 1598 1624 1652 1679 1710 1742 1765 1787 1812 1856 1872 1905 1945 1961 1991 2036 2029 2067 2092 2113 2146 2171 2211 2234 2251 2282 2307 2334 2345 2367 2404 2447 2478 2481 2481 2521 2514 2542 2586 2639 2660 2628 2675 2717 2683 2760 2742 2765 2804 2808 2831 2861 2841 2913 2860 2911 2941 2916 2952 2996 2967 2962 2982 3038 3049 3062 3030 3042 3081 3100 3107 3113 3088 3115 3100 3097 3112 3106 3134 3103 3156 3170 3140 3162 3147 3118 3121 3124 3105 3103 3094 3080 3063 3095 3063 3093 3090 3087 3083 3056 3045 3020 3047 3016 2989 2976 2995 2952 2908 2943 2931 2864 2901 2881 2810 2890 2791 2809 2776 2755 2740 2749 2669 2724 2645 2615 2656 2615 2529 2540 2555 2509 2471 2426 2417 2358 2363 2354 2345 2331 2299 2220 2249 2242 2164 2135 2172 2075 2081 2038 2021 2000 1956 1920 1907 1911 1830 1798 1811 1783 1760 1733 1717 1666 1612 1616 1605 1528 1523 1497 1502 1441 1411 1401 1354 1322 1312 1316 1283 1260 1223 1185 1173 1137 1115 1093 1069 1063 1014 994 975 969 932 914 893 890 851 839 834 809 778 747 747 730 709 707 696 673 663 648 640 621 604 612 589 592 578 549 547 562 538 524 529 519 506 505 510 507 498 481 499 496 496 498 496 475 494 495 502 534 500 503 513 516 546 538 556 543 565 565 568 592 590 618 622 636 647 667 684 698 702 710 729 746 754 779 800 806 841 854 857 905 909 939 961 973 989 1028 1052 1080 1083 1110 1124 1168 1178 1212 1247 1245 1286 1316 1333 1372 1379 1409 1447 1467 1504 1520 1531 1576 1611 1624 1657 1672 1723 1750 1774 1791 1829 1856 1882 1892 1930 1957 1988 2025 2050 2066 2096 2123 2144 2176 2178 2201 2235 2315 2312 2323 2327 2370 2378 2413 2432 2463 2474 2493 2530 2586 2616 2611 2619 2680 2678 2671 2767 2712 2782 2751 2826 2770 2859 2824 2858 2909 2874 2937 2900 2962 2990 2957 2943 2974 3034 3045 3034 3003 3012 3033 3035 3088 3107 3097 3118 3111 3133 3116 3102 3089 3112 3093 3104 3097 3117 3099 3110 3098 3105 3102 3103 3099 3082 3080 3084 3070 3072 3065 3061 3060 3077 3070 3047 2997 2987 2999 3025 3002 3004 2959 2903 2927 2932 2870 2909 2852 2861 2858 2804 2775 2791 2767 2776 2689 2731 2679 2656 2667 2584 2571 2567 2592 2540 2490 2458 \n",
      "\n",
      "(1,)\n"
     ]
    },
    {
     "name": "stderr",
     "output_type": "stream",
     "text": [
      "/tmp/ipykernel_6414/3401684603.py:5: DeprecationWarning: string or file could not be read to its end due to unmatched data; this will raise a ValueError in the future.\n",
      "  dados_linha = np.fromstring(medida[0], dtype=int, sep=' ')\n"
     ]
    }
   ],
   "source": [
    "dados_lst=[]\n",
    "freqs_lst=[]\n",
    "for idx,line in enumerate(lines):\n",
    "    medida = line.split(\" DADOS \")\n",
    "    dados_linha = np.fromstring(medida[0], dtype=int, sep=' ')\n",
    "    if dados_linha.size==600:\n",
    "        dados_lst.append(dados_linha)\n",
    "        freqs_linha = medida[1].replace(\"******** \",\"\").split(\" -> \")\n",
    "        freqs_lst.append(np.fromstring(freqs_linha[0], dtype=float, sep=' '))\n",
    "    else:\n",
    "        print(medida[1].replace(\"******** \",\"\"))\n",
    "        print(dados_linha.shape)\n",
    "\n",
    "freqs = np.array(freqs_lst)\n",
    "dados = np.array(dados_lst)"
   ]
  },
  {
   "cell_type": "code",
   "execution_count": 98,
   "metadata": {
    "ExecuteTime": {
     "end_time": "2021-10-20T00:54:07.453026Z",
     "start_time": "2021-10-20T00:54:07.094915Z"
    }
   },
   "outputs": [
    {
     "ename": "IndexError",
     "evalue": "too many indices for array: array is 1-dimensional, but 2 were indexed",
     "output_type": "error",
     "traceback": [
      "\u001b[0;31m---------------------------------------------------------------------------\u001b[0m",
      "\u001b[0;31mIndexError\u001b[0m                                Traceback (most recent call last)",
      "\u001b[0;32m/tmp/ipykernel_6414/1664636222.py\u001b[0m in \u001b[0;36m<module>\u001b[0;34m\u001b[0m\n\u001b[1;32m      1\u001b[0m \u001b[0mplt\u001b[0m\u001b[0;34m.\u001b[0m\u001b[0mfigure\u001b[0m\u001b[0;34m(\u001b[0m\u001b[0mfigsize\u001b[0m\u001b[0;34m=\u001b[0m\u001b[0;34m(\u001b[0m\u001b[0;36m20\u001b[0m\u001b[0;34m,\u001b[0m\u001b[0;36m5\u001b[0m\u001b[0;34m)\u001b[0m\u001b[0;34m)\u001b[0m\u001b[0;34m\u001b[0m\u001b[0;34m\u001b[0m\u001b[0m\n\u001b[1;32m      2\u001b[0m \u001b[0mplt\u001b[0m\u001b[0;34m.\u001b[0m\u001b[0msubplot\u001b[0m\u001b[0;34m(\u001b[0m\u001b[0;36m1\u001b[0m\u001b[0;34m,\u001b[0m\u001b[0;36m2\u001b[0m\u001b[0;34m,\u001b[0m\u001b[0;36m1\u001b[0m\u001b[0;34m)\u001b[0m\u001b[0;34m\u001b[0m\u001b[0;34m\u001b[0m\u001b[0m\n\u001b[0;32m----> 3\u001b[0;31m \u001b[0mplt\u001b[0m\u001b[0;34m.\u001b[0m\u001b[0mplot\u001b[0m\u001b[0;34m(\u001b[0m\u001b[0mfreqs\u001b[0m\u001b[0;34m[\u001b[0m\u001b[0;34m:\u001b[0m\u001b[0;34m,\u001b[0m\u001b[0;36m0\u001b[0m\u001b[0;34m]\u001b[0m\u001b[0;34m)\u001b[0m\u001b[0;34m\u001b[0m\u001b[0;34m\u001b[0m\u001b[0m\n\u001b[0m\u001b[1;32m      4\u001b[0m \u001b[0mplt\u001b[0m\u001b[0;34m.\u001b[0m\u001b[0mtitle\u001b[0m\u001b[0;34m(\u001b[0m\u001b[0;34m'Amplitudes'\u001b[0m\u001b[0;34m)\u001b[0m\u001b[0;34m\u001b[0m\u001b[0;34m\u001b[0m\u001b[0m\n\u001b[1;32m      5\u001b[0m \u001b[0mplt\u001b[0m\u001b[0;34m.\u001b[0m\u001b[0msubplot\u001b[0m\u001b[0;34m(\u001b[0m\u001b[0;36m1\u001b[0m\u001b[0;34m,\u001b[0m\u001b[0;36m2\u001b[0m\u001b[0;34m,\u001b[0m\u001b[0;36m2\u001b[0m\u001b[0;34m)\u001b[0m\u001b[0;34m\u001b[0m\u001b[0;34m\u001b[0m\u001b[0m\n",
      "\u001b[0;31mIndexError\u001b[0m: too many indices for array: array is 1-dimensional, but 2 were indexed"
     ]
    },
    {
     "data": {
      "image/png": "[encoded data removed]",
      "text/plain": [
       "<Figure size 1440x360 with 1 Axes>"
      ]
     },
     "metadata": {
      "needs_background": "light"
     },
     "output_type": "display_data"
    }
   ],
   "source": [
    "plt.figure(figsize=(20,5))\n",
    "plt.subplot(1,2,1)\n",
    "plt.plot(freqs[:,0])\n",
    "plt.title('Amplitudes')\n",
    "plt.subplot(1,2,2)\n",
    "plt.plot(freqs[:,1])\n",
    "plt.gca().get_yaxis().get_major_formatter().set_useOffset(False)\n",
    "plt.title('Frequencias')\n",
    "plt.suptitle('Dados calculados pelo STM32')\n",
    "plt.show()\n"
   ]
  },
  {
   "cell_type": "code",
   "execution_count": 75,
   "metadata": {
    "ExecuteTime": {
     "end_time": "2021-10-20T00:54:07.459631Z",
     "start_time": "2021-10-20T00:54:07.455981Z"
    }
   },
   "outputs": [
    {
     "data": {
      "text/plain": [
       "(0,)"
      ]
     },
     "execution_count": 75,
     "metadata": {},
     "output_type": "execute_result"
    }
   ],
   "source": [
    "dados.shape"
   ]
  },
  {
   "cell_type": "code",
   "execution_count": 76,
   "metadata": {
    "ExecuteTime": {
     "end_time": "2021-10-20T00:58:49.146055Z",
     "start_time": "2021-10-20T00:58:48.580917Z"
    }
   },
   "outputs": [
    {
     "ename": "IndexError",
     "evalue": "too many indices for array: array is 1-dimensional, but 2 were indexed",
     "output_type": "error",
     "traceback": [
      "\u001b[0;31m---------------------------------------------------------------------------\u001b[0m",
      "\u001b[0;31mIndexError\u001b[0m                                Traceback (most recent call last)",
      "\u001b[0;32m/tmp/ipykernel_6414/1558413466.py\u001b[0m in \u001b[0;36m<module>\u001b[0;34m\u001b[0m\n\u001b[1;32m      2\u001b[0m \u001b[0mk\u001b[0m\u001b[0;34m=\u001b[0m\u001b[0;36m3.3\u001b[0m\u001b[0;34m/\u001b[0m\u001b[0;36m4095\u001b[0m\u001b[0;34m\u001b[0m\u001b[0;34m\u001b[0m\u001b[0m\n\u001b[1;32m      3\u001b[0m \u001b[0mplt\u001b[0m\u001b[0;34m.\u001b[0m\u001b[0mfigure\u001b[0m\u001b[0;34m(\u001b[0m\u001b[0mfigsize\u001b[0m\u001b[0;34m=\u001b[0m\u001b[0;34m(\u001b[0m\u001b[0;36m30\u001b[0m\u001b[0;34m,\u001b[0m\u001b[0;36m5\u001b[0m\u001b[0;34m)\u001b[0m\u001b[0;34m)\u001b[0m\u001b[0;34m\u001b[0m\u001b[0;34m\u001b[0m\u001b[0m\n\u001b[0;32m----> 4\u001b[0;31m \u001b[0mplt\u001b[0m\u001b[0;34m.\u001b[0m\u001b[0mplot\u001b[0m\u001b[0;34m(\u001b[0m\u001b[0mdados\u001b[0m\u001b[0;34m[\u001b[0m\u001b[0;36m0\u001b[0m\u001b[0;34m,\u001b[0m\u001b[0;34m:\u001b[0m\u001b[0mlimite\u001b[0m\u001b[0;34m]\u001b[0m\u001b[0;34m*\u001b[0m\u001b[0mk\u001b[0m\u001b[0;34m,\u001b[0m\u001b[0;34m'b-'\u001b[0m\u001b[0;34m)\u001b[0m\u001b[0;34m\u001b[0m\u001b[0;34m\u001b[0m\u001b[0m\n\u001b[0m\u001b[1;32m      5\u001b[0m \u001b[0mplt\u001b[0m\u001b[0;34m.\u001b[0m\u001b[0mplot\u001b[0m\u001b[0;34m(\u001b[0m\u001b[0mdados\u001b[0m\u001b[0;34m[\u001b[0m\u001b[0;36m120\u001b[0m\u001b[0;34m,\u001b[0m\u001b[0;34m:\u001b[0m\u001b[0mlimite\u001b[0m\u001b[0;34m]\u001b[0m\u001b[0;34m*\u001b[0m\u001b[0mk\u001b[0m\u001b[0;34m,\u001b[0m\u001b[0;34m'r-'\u001b[0m\u001b[0;34m)\u001b[0m\u001b[0;34m\u001b[0m\u001b[0;34m\u001b[0m\u001b[0m\n\u001b[1;32m      6\u001b[0m \u001b[0mplt\u001b[0m\u001b[0;34m.\u001b[0m\u001b[0mshow\u001b[0m\u001b[0;34m(\u001b[0m\u001b[0;34m)\u001b[0m\u001b[0;34m\u001b[0m\u001b[0;34m\u001b[0m\u001b[0m\n",
      "\u001b[0;31mIndexError\u001b[0m: too many indices for array: array is 1-dimensional, but 2 were indexed"
     ]
    },
    {
     "data": {
      "text/plain": [
       "<Figure size 2160x360 with 0 Axes>"
      ]
     },
     "metadata": {},
     "output_type": "display_data"
    }
   ],
   "source": [
    "limite=6000\n",
    "k=3.3/4095\n",
    "plt.figure(figsize=(30,5))\n",
    "plt.plot(dados[0,:limite]*k,'b-')\n",
    "plt.plot(dados[120,:limite]*k,'r-')\n",
    "plt.show()"
   ]
  },
  {
   "cell_type": "code",
   "execution_count": 77,
   "metadata": {
    "ExecuteTime": {
     "end_time": "2021-10-20T00:54:08.254060Z",
     "start_time": "2021-10-20T00:54:08.048337Z"
    }
   },
   "outputs": [
    {
     "ename": "IndexError",
     "evalue": "too many indices for array: array is 1-dimensional, but 2 were indexed",
     "output_type": "error",
     "traceback": [
      "\u001b[0;31m---------------------------------------------------------------------------\u001b[0m",
      "\u001b[0;31mIndexError\u001b[0m                                Traceback (most recent call last)",
      "\u001b[0;32m/tmp/ipykernel_6414/2215719327.py\u001b[0m in \u001b[0;36m<module>\u001b[0;34m\u001b[0m\n\u001b[1;32m      2\u001b[0m \u001b[0mk\u001b[0m\u001b[0;34m=\u001b[0m\u001b[0;36m3.3\u001b[0m\u001b[0;34m/\u001b[0m\u001b[0;36m4095\u001b[0m\u001b[0;34m\u001b[0m\u001b[0;34m\u001b[0m\u001b[0m\n\u001b[1;32m      3\u001b[0m \u001b[0mplt\u001b[0m\u001b[0;34m.\u001b[0m\u001b[0mfigure\u001b[0m\u001b[0;34m(\u001b[0m\u001b[0mfigsize\u001b[0m\u001b[0;34m=\u001b[0m\u001b[0;34m(\u001b[0m\u001b[0;36m30\u001b[0m\u001b[0;34m,\u001b[0m\u001b[0;36m5\u001b[0m\u001b[0;34m)\u001b[0m\u001b[0;34m)\u001b[0m\u001b[0;34m\u001b[0m\u001b[0;34m\u001b[0m\u001b[0m\n\u001b[0;32m----> 4\u001b[0;31m \u001b[0mplt\u001b[0m\u001b[0;34m.\u001b[0m\u001b[0mplot\u001b[0m\u001b[0;34m(\u001b[0m\u001b[0mdados\u001b[0m\u001b[0;34m[\u001b[0m\u001b[0;36m0\u001b[0m\u001b[0;34m,\u001b[0m\u001b[0;34m:\u001b[0m\u001b[0mlimite\u001b[0m\u001b[0;34m]\u001b[0m\u001b[0;34m*\u001b[0m\u001b[0mk\u001b[0m\u001b[0;34m,\u001b[0m\u001b[0;34m'b-'\u001b[0m\u001b[0;34m)\u001b[0m\u001b[0;34m\u001b[0m\u001b[0;34m\u001b[0m\u001b[0m\n\u001b[0m\u001b[1;32m      5\u001b[0m \u001b[0mplt\u001b[0m\u001b[0;34m.\u001b[0m\u001b[0mplot\u001b[0m\u001b[0;34m(\u001b[0m\u001b[0mdados\u001b[0m\u001b[0;34m[\u001b[0m\u001b[0;36m101\u001b[0m\u001b[0;34m,\u001b[0m\u001b[0;34m:\u001b[0m\u001b[0mlimite\u001b[0m\u001b[0;34m]\u001b[0m\u001b[0;34m*\u001b[0m\u001b[0mk\u001b[0m\u001b[0;34m,\u001b[0m\u001b[0;34m'r-'\u001b[0m\u001b[0;34m)\u001b[0m\u001b[0;34m\u001b[0m\u001b[0;34m\u001b[0m\u001b[0m\n\u001b[1;32m      6\u001b[0m \u001b[0mplt\u001b[0m\u001b[0;34m.\u001b[0m\u001b[0mshow\u001b[0m\u001b[0;34m(\u001b[0m\u001b[0;34m)\u001b[0m\u001b[0;34m\u001b[0m\u001b[0;34m\u001b[0m\u001b[0m\n",
      "\u001b[0;31mIndexError\u001b[0m: too many indices for array: array is 1-dimensional, but 2 were indexed"
     ]
    },
    {
     "data": {
      "text/plain": [
       "<Figure size 2160x360 with 0 Axes>"
      ]
     },
     "metadata": {},
     "output_type": "display_data"
    }
   ],
   "source": [
    "limite=200\n",
    "k=3.3/4095\n",
    "plt.figure(figsize=(30,5))\n",
    "plt.plot(dados[0,:limite]*k,'b-')\n",
    "plt.plot(dados[101,:limite]*k,'r-')\n",
    "plt.show()"
   ]
  },
  {
   "cell_type": "code",
   "execution_count": 78,
   "metadata": {
    "ExecuteTime": {
     "end_time": "2021-10-20T00:54:08.260949Z",
     "start_time": "2021-10-20T00:54:08.255933Z"
    }
   },
   "outputs": [],
   "source": [
    "# retorna apenas a componente da fft em uma única frequencia, fazendo a conta como se tivesse zeros a mais\n",
    "def componente_precisa(sinal,frequencia,sample_freq, fator_zeros=100000):\n",
    "    N = len(sinal)\n",
    "    Ntotal = N*fator_zeros\n",
    "    df = sample_freq/Ntotal\n",
    "    k = np.round(frequencia/df)\n",
    "    Freal = 0\n",
    "    Fimag = 0\n",
    "    for n in range(N):\n",
    "        Freal += sinal[n]*np.cos(k*n*2*np.pi/Ntotal)\n",
    "        Fimag += sinal[n]*np.sin(k*n*2*np.pi/Ntotal)\n",
    "    Fj = np.sqrt(Freal**2 + Fimag**2)\n",
    "    return Fj/(N/2)"
   ]
  },
  {
   "cell_type": "code",
   "execution_count": 79,
   "metadata": {
    "ExecuteTime": {
     "end_time": "2021-10-20T00:54:08.268289Z",
     "start_time": "2021-10-20T00:54:08.262840Z"
    }
   },
   "outputs": [],
   "source": [
    "# somatorio da fft sem usar complexo, retorna amplitude\n",
    "def somaa(f,k):\n",
    "    Freal = 0\n",
    "    Fimag = 0\n",
    "    N = len(f)\n",
    "    for n in range(N):\n",
    "        Freal += f[n]*np.cos(k*n*2*np.pi/N)\n",
    "        Fimag += f[n]*np.sin(k*n*2*np.pi/N)\n",
    "    Fj = np.sqrt(Freal**2 + Fimag**2)\n",
    "    return Fj"
   ]
  },
  {
   "cell_type": "code",
   "execution_count": 80,
   "metadata": {
    "ExecuteTime": {
     "end_time": "2021-10-20T00:54:08.276161Z",
     "start_time": "2021-10-20T00:54:08.269868Z"
    }
   },
   "outputs": [],
   "source": [
    "# plota o meu gráfico da fft\n",
    "def print_fft(sinal,sample_freq, completo = False):\n",
    "    N = len(sinal)\n",
    "    df = sample_freq/N\n",
    "    print(f'df = {df}')\n",
    "    ffty = np.zeros(N)\n",
    "    for k in range(N):\n",
    "        ffty[k] = somaa(sinal,k)\n",
    "    xf = np.array(range(N))*df\n",
    "    yf = ffty*2/N\n",
    "    plt.figure(figsize=(30,5))\n",
    "    if completo:\n",
    "        plt.plot(xf,yf,'bx-')\n",
    "    else:\n",
    "        plt.plot(xf[0:int((N+1)/2)],yf[0:int((N+1)/2)],'bx-')\n",
    "    plt.xlabel('Frequencia [Hz]')\n",
    "    plt.ylabel('Amplitude')\n",
    "    plt.grid()\n",
    "    return ffty, df"
   ]
  },
  {
   "cell_type": "code",
   "execution_count": 81,
   "metadata": {
    "ExecuteTime": {
     "end_time": "2021-10-20T00:56:44.792116Z",
     "start_time": "2021-10-20T00:56:44.341372Z"
    }
   },
   "outputs": [
    {
     "ename": "IndexError",
     "evalue": "too many indices for array: array is 1-dimensional, but 2 were indexed",
     "output_type": "error",
     "traceback": [
      "\u001b[0;31m---------------------------------------------------------------------------\u001b[0m",
      "\u001b[0;31mIndexError\u001b[0m                                Traceback (most recent call last)",
      "\u001b[0;32m/tmp/ipykernel_6414/3839529825.py\u001b[0m in \u001b[0;36m<module>\u001b[0;34m\u001b[0m\n\u001b[1;32m      1\u001b[0m \u001b[0mnpontos\u001b[0m \u001b[0;34m=\u001b[0m \u001b[0;36m300\u001b[0m\u001b[0;34m\u001b[0m\u001b[0;34m\u001b[0m\u001b[0m\n\u001b[0;32m----> 2\u001b[0;31m \u001b[0mffty\u001b[0m\u001b[0;34m,\u001b[0m \u001b[0mdf\u001b[0m \u001b[0;34m=\u001b[0m \u001b[0mprint_fft\u001b[0m\u001b[0;34m(\u001b[0m\u001b[0mdados\u001b[0m\u001b[0;34m[\u001b[0m\u001b[0;36m80\u001b[0m\u001b[0;34m,\u001b[0m\u001b[0;34m:\u001b[0m\u001b[0mnpontos\u001b[0m\u001b[0;34m]\u001b[0m\u001b[0;34m*\u001b[0m\u001b[0mk\u001b[0m\u001b[0;34m,\u001b[0m\u001b[0;36m600000\u001b[0m\u001b[0;34m)\u001b[0m\u001b[0;34m\u001b[0m\u001b[0;34m\u001b[0m\u001b[0m\n\u001b[0m",
      "\u001b[0;31mIndexError\u001b[0m: too many indices for array: array is 1-dimensional, but 2 were indexed"
     ]
    }
   ],
   "source": [
    "npontos = 300\n",
    "ffty, df = print_fft(dados[80,:npontos]*k,600000)"
   ]
  },
  {
   "cell_type": "code",
   "execution_count": 50,
   "metadata": {
    "ExecuteTime": {
     "end_time": "2021-10-20T00:56:59.700884Z",
     "start_time": "2021-10-20T00:56:52.948229Z"
    }
   },
   "outputs": [
    {
     "ename": "IndexError",
     "evalue": "index 80 is out of bounds for axis 0 with size 1",
     "output_type": "error",
     "traceback": [
      "\u001b[0;31m---------------------------------------------------------------------------\u001b[0m",
      "\u001b[0;31mIndexError\u001b[0m                                Traceback (most recent call last)",
      "\u001b[0;32m/tmp/ipykernel_6414/2867427456.py\u001b[0m in \u001b[0;36m<module>\u001b[0;34m\u001b[0m\n\u001b[1;32m      1\u001b[0m \u001b[0mnpontos\u001b[0m \u001b[0;34m=\u001b[0m \u001b[0;36m1500\u001b[0m\u001b[0;34m\u001b[0m\u001b[0;34m\u001b[0m\u001b[0m\n\u001b[0;32m----> 2\u001b[0;31m \u001b[0mffty\u001b[0m\u001b[0;34m,\u001b[0m \u001b[0mdf\u001b[0m \u001b[0;34m=\u001b[0m \u001b[0mprint_fft\u001b[0m\u001b[0;34m(\u001b[0m\u001b[0mdados\u001b[0m\u001b[0;34m[\u001b[0m\u001b[0;36m80\u001b[0m\u001b[0;34m,\u001b[0m\u001b[0;34m:\u001b[0m\u001b[0mnpontos\u001b[0m\u001b[0;34m]\u001b[0m\u001b[0;34m*\u001b[0m\u001b[0mk\u001b[0m\u001b[0;34m,\u001b[0m\u001b[0;36m600000\u001b[0m\u001b[0;34m)\u001b[0m\u001b[0;34m\u001b[0m\u001b[0;34m\u001b[0m\u001b[0m\n\u001b[0m",
      "\u001b[0;31mIndexError\u001b[0m: index 80 is out of bounds for axis 0 with size 1"
     ]
    }
   ],
   "source": [
    "npontos = 1500\n",
    "ffty, df = print_fft(dados[80,:npontos]*k,600000)"
   ]
  },
  {
   "cell_type": "code",
   "execution_count": 51,
   "metadata": {
    "ExecuteTime": {
     "end_time": "2021-10-20T01:01:38.768664Z",
     "start_time": "2021-10-20T01:01:37.686989Z"
    }
   },
   "outputs": [
    {
     "ename": "IndexError",
     "evalue": "index 80 is out of bounds for axis 0 with size 1",
     "output_type": "error",
     "traceback": [
      "\u001b[0;31m---------------------------------------------------------------------------\u001b[0m",
      "\u001b[0;31mIndexError\u001b[0m                                Traceback (most recent call last)",
      "\u001b[0;32m/tmp/ipykernel_6414/1899122422.py\u001b[0m in \u001b[0;36m<module>\u001b[0;34m\u001b[0m\n\u001b[1;32m      2\u001b[0m \u001b[0msample_freq\u001b[0m \u001b[0;34m=\u001b[0m \u001b[0;36m600000\u001b[0m\u001b[0;34m\u001b[0m\u001b[0;34m\u001b[0m\u001b[0m\n\u001b[1;32m      3\u001b[0m \u001b[0mnpontos_range\u001b[0m \u001b[0;34m=\u001b[0m \u001b[0mrange\u001b[0m\u001b[0;34m(\u001b[0m\u001b[0;36m300\u001b[0m\u001b[0;34m,\u001b[0m\u001b[0;36m6000\u001b[0m\u001b[0;34m,\u001b[0m\u001b[0;36m100\u001b[0m\u001b[0;34m)\u001b[0m\u001b[0;34m\u001b[0m\u001b[0;34m\u001b[0m\u001b[0m\n\u001b[0;32m----> 4\u001b[0;31m \u001b[0mcomponentes\u001b[0m \u001b[0;34m=\u001b[0m \u001b[0;34m[\u001b[0m\u001b[0mcomponente_precisa\u001b[0m\u001b[0;34m(\u001b[0m\u001b[0mdados\u001b[0m\u001b[0;34m[\u001b[0m\u001b[0;36m80\u001b[0m\u001b[0;34m,\u001b[0m\u001b[0;34m:\u001b[0m\u001b[0mnpontos\u001b[0m\u001b[0;34m]\u001b[0m\u001b[0;34m*\u001b[0m\u001b[0mk\u001b[0m\u001b[0;34m,\u001b[0m\u001b[0mfrequencia\u001b[0m\u001b[0;34m,\u001b[0m\u001b[0msample_freq\u001b[0m\u001b[0;34m,\u001b[0m \u001b[0mfator_zeros\u001b[0m\u001b[0;34m=\u001b[0m\u001b[0;36m100000\u001b[0m\u001b[0;34m)\u001b[0m \u001b[0;32mfor\u001b[0m \u001b[0mnpontos\u001b[0m \u001b[0;32min\u001b[0m \u001b[0mnpontos_range\u001b[0m\u001b[0;34m]\u001b[0m\u001b[0;34m\u001b[0m\u001b[0;34m\u001b[0m\u001b[0m\n\u001b[0m",
      "\u001b[0;32m/tmp/ipykernel_6414/1899122422.py\u001b[0m in \u001b[0;36m<listcomp>\u001b[0;34m(.0)\u001b[0m\n\u001b[1;32m      2\u001b[0m \u001b[0msample_freq\u001b[0m \u001b[0;34m=\u001b[0m \u001b[0;36m600000\u001b[0m\u001b[0;34m\u001b[0m\u001b[0;34m\u001b[0m\u001b[0m\n\u001b[1;32m      3\u001b[0m \u001b[0mnpontos_range\u001b[0m \u001b[0;34m=\u001b[0m \u001b[0mrange\u001b[0m\u001b[0;34m(\u001b[0m\u001b[0;36m300\u001b[0m\u001b[0;34m,\u001b[0m\u001b[0;36m6000\u001b[0m\u001b[0;34m,\u001b[0m\u001b[0;36m100\u001b[0m\u001b[0;34m)\u001b[0m\u001b[0;34m\u001b[0m\u001b[0;34m\u001b[0m\u001b[0m\n\u001b[0;32m----> 4\u001b[0;31m \u001b[0mcomponentes\u001b[0m \u001b[0;34m=\u001b[0m \u001b[0;34m[\u001b[0m\u001b[0mcomponente_precisa\u001b[0m\u001b[0;34m(\u001b[0m\u001b[0mdados\u001b[0m\u001b[0;34m[\u001b[0m\u001b[0;36m80\u001b[0m\u001b[0;34m,\u001b[0m\u001b[0;34m:\u001b[0m\u001b[0mnpontos\u001b[0m\u001b[0;34m]\u001b[0m\u001b[0;34m*\u001b[0m\u001b[0mk\u001b[0m\u001b[0;34m,\u001b[0m\u001b[0mfrequencia\u001b[0m\u001b[0;34m,\u001b[0m\u001b[0msample_freq\u001b[0m\u001b[0;34m,\u001b[0m \u001b[0mfator_zeros\u001b[0m\u001b[0;34m=\u001b[0m\u001b[0;36m100000\u001b[0m\u001b[0;34m)\u001b[0m \u001b[0;32mfor\u001b[0m \u001b[0mnpontos\u001b[0m \u001b[0;32min\u001b[0m \u001b[0mnpontos_range\u001b[0m\u001b[0;34m]\u001b[0m\u001b[0;34m\u001b[0m\u001b[0;34m\u001b[0m\u001b[0m\n\u001b[0m",
      "\u001b[0;31mIndexError\u001b[0m: index 80 is out of bounds for axis 0 with size 1"
     ]
    }
   ],
   "source": [
    "frequencia = 198180\n",
    "sample_freq = 600000\n",
    "npontos_range = range(300,6000,100)\n",
    "componentes = [componente_precisa(dados[80,:npontos]*k,frequencia,sample_freq, fator_zeros=100000) for npontos in npontos_range]"
   ]
  },
  {
   "cell_type": "code",
   "execution_count": 52,
   "metadata": {
    "ExecuteTime": {
     "end_time": "2021-10-20T01:03:22.814146Z",
     "start_time": "2021-10-20T01:03:22.645800Z"
    }
   },
   "outputs": [
    {
     "ename": "NameError",
     "evalue": "name 'componentes' is not defined",
     "output_type": "error",
     "traceback": [
      "\u001b[0;31m---------------------------------------------------------------------------\u001b[0m",
      "\u001b[0;31mNameError\u001b[0m                                 Traceback (most recent call last)",
      "\u001b[0;32m/tmp/ipykernel_6414/1472657690.py\u001b[0m in \u001b[0;36m<module>\u001b[0;34m\u001b[0m\n\u001b[0;32m----> 1\u001b[0;31m \u001b[0mplt\u001b[0m\u001b[0;34m.\u001b[0m\u001b[0mplot\u001b[0m\u001b[0;34m(\u001b[0m\u001b[0mnpontos_range\u001b[0m\u001b[0;34m,\u001b[0m\u001b[0mcomponentes\u001b[0m\u001b[0;34m)\u001b[0m\u001b[0;34m\u001b[0m\u001b[0;34m\u001b[0m\u001b[0m\n\u001b[0m\u001b[1;32m      2\u001b[0m \u001b[0mplt\u001b[0m\u001b[0;34m.\u001b[0m\u001b[0mxlabel\u001b[0m\u001b[0;34m(\u001b[0m\u001b[0;34m'número de pontos'\u001b[0m\u001b[0;34m)\u001b[0m\u001b[0;34m\u001b[0m\u001b[0;34m\u001b[0m\u001b[0m\n\u001b[1;32m      3\u001b[0m \u001b[0mplt\u001b[0m\u001b[0;34m.\u001b[0m\u001b[0mylabel\u001b[0m\u001b[0;34m(\u001b[0m\u001b[0;34mf'Componente em f={frequencia}Hz'\u001b[0m\u001b[0;34m)\u001b[0m\u001b[0;34m\u001b[0m\u001b[0;34m\u001b[0m\u001b[0m\n",
      "\u001b[0;31mNameError\u001b[0m: name 'componentes' is not defined"
     ]
    }
   ],
   "source": [
    "plt.plot(npontos_range,componentes)\n",
    "plt.xlabel('número de pontos')\n",
    "plt.ylabel(f'Componente em f={frequencia}Hz')"
   ]
  },
  {
   "cell_type": "code",
   "execution_count": 53,
   "metadata": {
    "ExecuteTime": {
     "end_time": "2021-10-20T01:08:31.087862Z",
     "start_time": "2021-10-20T01:08:30.936378Z"
    }
   },
   "outputs": [
    {
     "ename": "IndexError",
     "evalue": "index 80 is out of bounds for axis 0 with size 1",
     "output_type": "error",
     "traceback": [
      "\u001b[0;31m---------------------------------------------------------------------------\u001b[0m",
      "\u001b[0;31mIndexError\u001b[0m                                Traceback (most recent call last)",
      "\u001b[0;32m/tmp/ipykernel_6414/6290131.py\u001b[0m in \u001b[0;36m<module>\u001b[0;34m\u001b[0m\n\u001b[1;32m      3\u001b[0m \u001b[0mnpontos\u001b[0m \u001b[0;34m=\u001b[0m \u001b[0;36m300\u001b[0m\u001b[0;34m\u001b[0m\u001b[0;34m\u001b[0m\u001b[0m\n\u001b[1;32m      4\u001b[0m \u001b[0minicio_range\u001b[0m \u001b[0;34m=\u001b[0m \u001b[0mrange\u001b[0m\u001b[0;34m(\u001b[0m\u001b[0;36m0\u001b[0m\u001b[0;34m,\u001b[0m\u001b[0;36m6000\u001b[0m\u001b[0;34m-\u001b[0m\u001b[0mnpontos\u001b[0m\u001b[0;34m-\u001b[0m\u001b[0;36m1\u001b[0m\u001b[0;34m,\u001b[0m\u001b[0;36m100\u001b[0m\u001b[0;34m)\u001b[0m\u001b[0;34m\u001b[0m\u001b[0;34m\u001b[0m\u001b[0m\n\u001b[0;32m----> 5\u001b[0;31m \u001b[0mcomponentes\u001b[0m \u001b[0;34m=\u001b[0m \u001b[0;34m[\u001b[0m\u001b[0mcomponente_precisa\u001b[0m\u001b[0;34m(\u001b[0m\u001b[0mdados\u001b[0m\u001b[0;34m[\u001b[0m\u001b[0;36m80\u001b[0m\u001b[0;34m,\u001b[0m\u001b[0minicio\u001b[0m\u001b[0;34m:\u001b[0m\u001b[0minicio\u001b[0m\u001b[0;34m+\u001b[0m\u001b[0mnpontos\u001b[0m\u001b[0;34m]\u001b[0m\u001b[0;34m*\u001b[0m\u001b[0mk\u001b[0m\u001b[0;34m,\u001b[0m\u001b[0mfrequencia\u001b[0m\u001b[0;34m,\u001b[0m\u001b[0msample_freq\u001b[0m\u001b[0;34m,\u001b[0m \u001b[0mfator_zeros\u001b[0m\u001b[0;34m=\u001b[0m\u001b[0;36m100000\u001b[0m\u001b[0;34m)\u001b[0m \u001b[0;32mfor\u001b[0m \u001b[0minicio\u001b[0m \u001b[0;32min\u001b[0m \u001b[0minicio_range\u001b[0m\u001b[0;34m]\u001b[0m\u001b[0;34m\u001b[0m\u001b[0;34m\u001b[0m\u001b[0m\n\u001b[0m",
      "\u001b[0;32m/tmp/ipykernel_6414/6290131.py\u001b[0m in \u001b[0;36m<listcomp>\u001b[0;34m(.0)\u001b[0m\n\u001b[1;32m      3\u001b[0m \u001b[0mnpontos\u001b[0m \u001b[0;34m=\u001b[0m \u001b[0;36m300\u001b[0m\u001b[0;34m\u001b[0m\u001b[0;34m\u001b[0m\u001b[0m\n\u001b[1;32m      4\u001b[0m \u001b[0minicio_range\u001b[0m \u001b[0;34m=\u001b[0m \u001b[0mrange\u001b[0m\u001b[0;34m(\u001b[0m\u001b[0;36m0\u001b[0m\u001b[0;34m,\u001b[0m\u001b[0;36m6000\u001b[0m\u001b[0;34m-\u001b[0m\u001b[0mnpontos\u001b[0m\u001b[0;34m-\u001b[0m\u001b[0;36m1\u001b[0m\u001b[0;34m,\u001b[0m\u001b[0;36m100\u001b[0m\u001b[0;34m)\u001b[0m\u001b[0;34m\u001b[0m\u001b[0;34m\u001b[0m\u001b[0m\n\u001b[0;32m----> 5\u001b[0;31m \u001b[0mcomponentes\u001b[0m \u001b[0;34m=\u001b[0m \u001b[0;34m[\u001b[0m\u001b[0mcomponente_precisa\u001b[0m\u001b[0;34m(\u001b[0m\u001b[0mdados\u001b[0m\u001b[0;34m[\u001b[0m\u001b[0;36m80\u001b[0m\u001b[0;34m,\u001b[0m\u001b[0minicio\u001b[0m\u001b[0;34m:\u001b[0m\u001b[0minicio\u001b[0m\u001b[0;34m+\u001b[0m\u001b[0mnpontos\u001b[0m\u001b[0;34m]\u001b[0m\u001b[0;34m*\u001b[0m\u001b[0mk\u001b[0m\u001b[0;34m,\u001b[0m\u001b[0mfrequencia\u001b[0m\u001b[0;34m,\u001b[0m\u001b[0msample_freq\u001b[0m\u001b[0;34m,\u001b[0m \u001b[0mfator_zeros\u001b[0m\u001b[0;34m=\u001b[0m\u001b[0;36m100000\u001b[0m\u001b[0;34m)\u001b[0m \u001b[0;32mfor\u001b[0m \u001b[0minicio\u001b[0m \u001b[0;32min\u001b[0m \u001b[0minicio_range\u001b[0m\u001b[0;34m]\u001b[0m\u001b[0;34m\u001b[0m\u001b[0;34m\u001b[0m\u001b[0m\n\u001b[0m",
      "\u001b[0;31mIndexError\u001b[0m: index 80 is out of bounds for axis 0 with size 1"
     ]
    }
   ],
   "source": [
    "frequencia = 198180\n",
    "sample_freq = 600000\n",
    "npontos = 300\n",
    "inicio_range = range(0,6000-npontos-1,100)\n",
    "componentes = [componente_precisa(dados[80,inicio:inicio+npontos]*k,frequencia,sample_freq, fator_zeros=100000) for inicio in inicio_range]"
   ]
  },
  {
   "cell_type": "code",
   "execution_count": 54,
   "metadata": {
    "ExecuteTime": {
     "end_time": "2021-10-20T01:09:00.930826Z",
     "start_time": "2021-10-20T01:09:00.775766Z"
    }
   },
   "outputs": [
    {
     "ename": "NameError",
     "evalue": "name 'componentes' is not defined",
     "output_type": "error",
     "traceback": [
      "\u001b[0;31m---------------------------------------------------------------------------\u001b[0m",
      "\u001b[0;31mNameError\u001b[0m                                 Traceback (most recent call last)",
      "\u001b[0;32m/tmp/ipykernel_6414/2213767414.py\u001b[0m in \u001b[0;36m<module>\u001b[0;34m\u001b[0m\n\u001b[0;32m----> 1\u001b[0;31m \u001b[0mplt\u001b[0m\u001b[0;34m.\u001b[0m\u001b[0mplot\u001b[0m\u001b[0;34m(\u001b[0m\u001b[0minicio_range\u001b[0m\u001b[0;34m,\u001b[0m\u001b[0mcomponentes\u001b[0m\u001b[0;34m)\u001b[0m\u001b[0;34m\u001b[0m\u001b[0;34m\u001b[0m\u001b[0m\n\u001b[0m\u001b[1;32m      2\u001b[0m \u001b[0mplt\u001b[0m\u001b[0;34m.\u001b[0m\u001b[0mxlabel\u001b[0m\u001b[0;34m(\u001b[0m\u001b[0;34mf'posição da janela de {npontos} pontos'\u001b[0m\u001b[0;34m)\u001b[0m\u001b[0;34m\u001b[0m\u001b[0;34m\u001b[0m\u001b[0m\n\u001b[1;32m      3\u001b[0m \u001b[0mplt\u001b[0m\u001b[0;34m.\u001b[0m\u001b[0mylabel\u001b[0m\u001b[0;34m(\u001b[0m\u001b[0;34mf'Componente em f={frequencia}Hz'\u001b[0m\u001b[0;34m)\u001b[0m\u001b[0;34m\u001b[0m\u001b[0;34m\u001b[0m\u001b[0m\n",
      "\u001b[0;31mNameError\u001b[0m: name 'componentes' is not defined"
     ]
    }
   ],
   "source": [
    "plt.plot(inicio_range,componentes)\n",
    "plt.xlabel(f'posição da janela de {npontos} pontos')\n",
    "plt.ylabel(f'Componente em f={frequencia}Hz')"
   ]
  },
  {
   "cell_type": "code",
   "execution_count": 55,
   "metadata": {
    "ExecuteTime": {
     "end_time": "2021-10-20T14:11:52.677506Z",
     "start_time": "2021-10-20T14:11:52.641987Z"
    }
   },
   "outputs": [
    {
     "ename": "IndexError",
     "evalue": "index 80 is out of bounds for axis 0 with size 1",
     "output_type": "error",
     "traceback": [
      "\u001b[0;31m---------------------------------------------------------------------------\u001b[0m",
      "\u001b[0;31mIndexError\u001b[0m                                Traceback (most recent call last)",
      "\u001b[0;32m/tmp/ipykernel_6414/2516566381.py\u001b[0m in \u001b[0;36m<module>\u001b[0;34m\u001b[0m\n\u001b[1;32m      2\u001b[0m \u001b[0msample_freq\u001b[0m \u001b[0;34m=\u001b[0m \u001b[0;36m600000\u001b[0m\u001b[0;34m\u001b[0m\u001b[0;34m\u001b[0m\u001b[0m\n\u001b[1;32m      3\u001b[0m \u001b[0mnpontos\u001b[0m \u001b[0;34m=\u001b[0m \u001b[0;36m300\u001b[0m\u001b[0;34m\u001b[0m\u001b[0;34m\u001b[0m\u001b[0m\n\u001b[0;32m----> 4\u001b[0;31m \u001b[0mcomponentes\u001b[0m \u001b[0;34m=\u001b[0m \u001b[0;34m[\u001b[0m\u001b[0mcomponente_precisa\u001b[0m\u001b[0;34m(\u001b[0m\u001b[0mdados\u001b[0m\u001b[0;34m[\u001b[0m\u001b[0;36m80\u001b[0m\u001b[0;34m,\u001b[0m\u001b[0;34m:\u001b[0m\u001b[0mnpontos\u001b[0m\u001b[0;34m]\u001b[0m\u001b[0;34m*\u001b[0m\u001b[0mk\u001b[0m\u001b[0;34m,\u001b[0m\u001b[0mfrequencia_i\u001b[0m\u001b[0;34m,\u001b[0m\u001b[0msample_freq\u001b[0m\u001b[0;34m,\u001b[0m \u001b[0mfator_zeros\u001b[0m\u001b[0;34m=\u001b[0m\u001b[0;36m100000\u001b[0m\u001b[0;34m)\u001b[0m \u001b[0;32mfor\u001b[0m \u001b[0mfrequencia_i\u001b[0m \u001b[0;32min\u001b[0m \u001b[0mfrequencia_range\u001b[0m\u001b[0;34m]\u001b[0m\u001b[0;34m\u001b[0m\u001b[0;34m\u001b[0m\u001b[0m\n\u001b[0m",
      "\u001b[0;32m/tmp/ipykernel_6414/2516566381.py\u001b[0m in \u001b[0;36m<listcomp>\u001b[0;34m(.0)\u001b[0m\n\u001b[1;32m      2\u001b[0m \u001b[0msample_freq\u001b[0m \u001b[0;34m=\u001b[0m \u001b[0;36m600000\u001b[0m\u001b[0;34m\u001b[0m\u001b[0;34m\u001b[0m\u001b[0m\n\u001b[1;32m      3\u001b[0m \u001b[0mnpontos\u001b[0m \u001b[0;34m=\u001b[0m \u001b[0;36m300\u001b[0m\u001b[0;34m\u001b[0m\u001b[0;34m\u001b[0m\u001b[0m\n\u001b[0;32m----> 4\u001b[0;31m \u001b[0mcomponentes\u001b[0m \u001b[0;34m=\u001b[0m \u001b[0;34m[\u001b[0m\u001b[0mcomponente_precisa\u001b[0m\u001b[0;34m(\u001b[0m\u001b[0mdados\u001b[0m\u001b[0;34m[\u001b[0m\u001b[0;36m80\u001b[0m\u001b[0;34m,\u001b[0m\u001b[0;34m:\u001b[0m\u001b[0mnpontos\u001b[0m\u001b[0;34m]\u001b[0m\u001b[0;34m*\u001b[0m\u001b[0mk\u001b[0m\u001b[0;34m,\u001b[0m\u001b[0mfrequencia_i\u001b[0m\u001b[0;34m,\u001b[0m\u001b[0msample_freq\u001b[0m\u001b[0;34m,\u001b[0m \u001b[0mfator_zeros\u001b[0m\u001b[0;34m=\u001b[0m\u001b[0;36m100000\u001b[0m\u001b[0;34m)\u001b[0m \u001b[0;32mfor\u001b[0m \u001b[0mfrequencia_i\u001b[0m \u001b[0;32min\u001b[0m \u001b[0mfrequencia_range\u001b[0m\u001b[0;34m]\u001b[0m\u001b[0;34m\u001b[0m\u001b[0;34m\u001b[0m\u001b[0m\n\u001b[0m",
      "\u001b[0;31mIndexError\u001b[0m: index 80 is out of bounds for axis 0 with size 1"
     ]
    }
   ],
   "source": [
    "frequencia_range = range(198000,199000,100)\n",
    "sample_freq = 600000\n",
    "npontos = 300\n",
    "componentes = [componente_precisa(dados[80,:npontos]*k,frequencia_i,sample_freq, fator_zeros=100000) for frequencia_i in frequencia_range]"
   ]
  },
  {
   "cell_type": "code",
   "execution_count": 56,
   "metadata": {
    "ExecuteTime": {
     "end_time": "2021-10-20T14:11:56.847447Z",
     "start_time": "2021-10-20T14:11:53.027230Z"
    }
   },
   "outputs": [
    {
     "ename": "IndexError",
     "evalue": "index 80 is out of bounds for axis 0 with size 1",
     "output_type": "error",
     "traceback": [
      "\u001b[0;31m---------------------------------------------------------------------------\u001b[0m",
      "\u001b[0;31mIndexError\u001b[0m                                Traceback (most recent call last)",
      "\u001b[0;32m/tmp/ipykernel_6414/369503821.py\u001b[0m in \u001b[0;36m<module>\u001b[0;34m\u001b[0m\n\u001b[1;32m      2\u001b[0m \u001b[0msample_freq\u001b[0m \u001b[0;34m=\u001b[0m \u001b[0;36m600000\u001b[0m\u001b[0;34m\u001b[0m\u001b[0;34m\u001b[0m\u001b[0m\n\u001b[1;32m      3\u001b[0m \u001b[0mnpontos2\u001b[0m \u001b[0;34m=\u001b[0m \u001b[0;36m6000\u001b[0m\u001b[0;34m\u001b[0m\u001b[0;34m\u001b[0m\u001b[0m\n\u001b[0;32m----> 4\u001b[0;31m \u001b[0mcomponentes2\u001b[0m \u001b[0;34m=\u001b[0m \u001b[0;34m[\u001b[0m\u001b[0mcomponente_precisa\u001b[0m\u001b[0;34m(\u001b[0m\u001b[0mdados\u001b[0m\u001b[0;34m[\u001b[0m\u001b[0;36m80\u001b[0m\u001b[0;34m,\u001b[0m\u001b[0;34m:\u001b[0m\u001b[0mnpontos2\u001b[0m\u001b[0;34m]\u001b[0m\u001b[0;34m*\u001b[0m\u001b[0mk\u001b[0m\u001b[0;34m,\u001b[0m\u001b[0mfrequencia_i\u001b[0m\u001b[0;34m,\u001b[0m\u001b[0msample_freq\u001b[0m\u001b[0;34m,\u001b[0m \u001b[0mfator_zeros\u001b[0m\u001b[0;34m=\u001b[0m\u001b[0;36m100000\u001b[0m\u001b[0;34m)\u001b[0m \u001b[0;32mfor\u001b[0m \u001b[0mfrequencia_i\u001b[0m \u001b[0;32min\u001b[0m \u001b[0mfrequencia_range2\u001b[0m\u001b[0;34m]\u001b[0m\u001b[0;34m\u001b[0m\u001b[0;34m\u001b[0m\u001b[0m\n\u001b[0m",
      "\u001b[0;32m/tmp/ipykernel_6414/369503821.py\u001b[0m in \u001b[0;36m<listcomp>\u001b[0;34m(.0)\u001b[0m\n\u001b[1;32m      2\u001b[0m \u001b[0msample_freq\u001b[0m \u001b[0;34m=\u001b[0m \u001b[0;36m600000\u001b[0m\u001b[0;34m\u001b[0m\u001b[0;34m\u001b[0m\u001b[0m\n\u001b[1;32m      3\u001b[0m \u001b[0mnpontos2\u001b[0m \u001b[0;34m=\u001b[0m \u001b[0;36m6000\u001b[0m\u001b[0;34m\u001b[0m\u001b[0;34m\u001b[0m\u001b[0m\n\u001b[0;32m----> 4\u001b[0;31m \u001b[0mcomponentes2\u001b[0m \u001b[0;34m=\u001b[0m \u001b[0;34m[\u001b[0m\u001b[0mcomponente_precisa\u001b[0m\u001b[0;34m(\u001b[0m\u001b[0mdados\u001b[0m\u001b[0;34m[\u001b[0m\u001b[0;36m80\u001b[0m\u001b[0;34m,\u001b[0m\u001b[0;34m:\u001b[0m\u001b[0mnpontos2\u001b[0m\u001b[0;34m]\u001b[0m\u001b[0;34m*\u001b[0m\u001b[0mk\u001b[0m\u001b[0;34m,\u001b[0m\u001b[0mfrequencia_i\u001b[0m\u001b[0;34m,\u001b[0m\u001b[0msample_freq\u001b[0m\u001b[0;34m,\u001b[0m \u001b[0mfator_zeros\u001b[0m\u001b[0;34m=\u001b[0m\u001b[0;36m100000\u001b[0m\u001b[0;34m)\u001b[0m \u001b[0;32mfor\u001b[0m \u001b[0mfrequencia_i\u001b[0m \u001b[0;32min\u001b[0m \u001b[0mfrequencia_range2\u001b[0m\u001b[0;34m]\u001b[0m\u001b[0;34m\u001b[0m\u001b[0;34m\u001b[0m\u001b[0m\n\u001b[0m",
      "\u001b[0;31mIndexError\u001b[0m: index 80 is out of bounds for axis 0 with size 1"
     ]
    }
   ],
   "source": [
    "frequencia_range2 = range(198000,199000,10)\n",
    "sample_freq = 600000\n",
    "npontos2 = 6000\n",
    "componentes2 = [componente_precisa(dados[80,:npontos2]*k,frequencia_i,sample_freq, fator_zeros=100000) for frequencia_i in frequencia_range2]"
   ]
  },
  {
   "cell_type": "code",
   "execution_count": 57,
   "metadata": {
    "ExecuteTime": {
     "end_time": "2021-10-20T14:11:57.765492Z",
     "start_time": "2021-10-20T14:11:56.851231Z"
    }
   },
   "outputs": [
    {
     "ename": "IndexError",
     "evalue": "index 80 is out of bounds for axis 0 with size 1",
     "output_type": "error",
     "traceback": [
      "\u001b[0;31m---------------------------------------------------------------------------\u001b[0m",
      "\u001b[0;31mIndexError\u001b[0m                                Traceback (most recent call last)",
      "\u001b[0;32m/tmp/ipykernel_6414/1581803056.py\u001b[0m in \u001b[0;36m<module>\u001b[0;34m\u001b[0m\n\u001b[1;32m      2\u001b[0m \u001b[0msample_freq\u001b[0m \u001b[0;34m=\u001b[0m \u001b[0;36m600000\u001b[0m\u001b[0;34m\u001b[0m\u001b[0;34m\u001b[0m\u001b[0m\n\u001b[1;32m      3\u001b[0m \u001b[0mnpontos3\u001b[0m \u001b[0;34m=\u001b[0m \u001b[0;36m1500\u001b[0m\u001b[0;34m\u001b[0m\u001b[0;34m\u001b[0m\u001b[0m\n\u001b[0;32m----> 4\u001b[0;31m \u001b[0mcomponentes3\u001b[0m \u001b[0;34m=\u001b[0m \u001b[0;34m[\u001b[0m\u001b[0mcomponente_precisa\u001b[0m\u001b[0;34m(\u001b[0m\u001b[0mdados\u001b[0m\u001b[0;34m[\u001b[0m\u001b[0;36m80\u001b[0m\u001b[0;34m,\u001b[0m\u001b[0;34m:\u001b[0m\u001b[0mnpontos3\u001b[0m\u001b[0;34m]\u001b[0m\u001b[0;34m*\u001b[0m\u001b[0mk\u001b[0m\u001b[0;34m,\u001b[0m\u001b[0mfrequencia_i\u001b[0m\u001b[0;34m,\u001b[0m\u001b[0msample_freq\u001b[0m\u001b[0;34m,\u001b[0m \u001b[0mfator_zeros\u001b[0m\u001b[0;34m=\u001b[0m\u001b[0;36m100000\u001b[0m\u001b[0;34m)\u001b[0m \u001b[0;32mfor\u001b[0m \u001b[0mfrequencia_i\u001b[0m \u001b[0;32min\u001b[0m \u001b[0mfrequencia_range3\u001b[0m\u001b[0;34m]\u001b[0m\u001b[0;34m\u001b[0m\u001b[0;34m\u001b[0m\u001b[0m\n\u001b[0m",
      "\u001b[0;32m/tmp/ipykernel_6414/1581803056.py\u001b[0m in \u001b[0;36m<listcomp>\u001b[0;34m(.0)\u001b[0m\n\u001b[1;32m      2\u001b[0m \u001b[0msample_freq\u001b[0m \u001b[0;34m=\u001b[0m \u001b[0;36m600000\u001b[0m\u001b[0;34m\u001b[0m\u001b[0;34m\u001b[0m\u001b[0m\n\u001b[1;32m      3\u001b[0m \u001b[0mnpontos3\u001b[0m \u001b[0;34m=\u001b[0m \u001b[0;36m1500\u001b[0m\u001b[0;34m\u001b[0m\u001b[0;34m\u001b[0m\u001b[0m\n\u001b[0;32m----> 4\u001b[0;31m \u001b[0mcomponentes3\u001b[0m \u001b[0;34m=\u001b[0m \u001b[0;34m[\u001b[0m\u001b[0mcomponente_precisa\u001b[0m\u001b[0;34m(\u001b[0m\u001b[0mdados\u001b[0m\u001b[0;34m[\u001b[0m\u001b[0;36m80\u001b[0m\u001b[0;34m,\u001b[0m\u001b[0;34m:\u001b[0m\u001b[0mnpontos3\u001b[0m\u001b[0;34m]\u001b[0m\u001b[0;34m*\u001b[0m\u001b[0mk\u001b[0m\u001b[0;34m,\u001b[0m\u001b[0mfrequencia_i\u001b[0m\u001b[0;34m,\u001b[0m\u001b[0msample_freq\u001b[0m\u001b[0;34m,\u001b[0m \u001b[0mfator_zeros\u001b[0m\u001b[0;34m=\u001b[0m\u001b[0;36m100000\u001b[0m\u001b[0;34m)\u001b[0m \u001b[0;32mfor\u001b[0m \u001b[0mfrequencia_i\u001b[0m \u001b[0;32min\u001b[0m \u001b[0mfrequencia_range3\u001b[0m\u001b[0;34m]\u001b[0m\u001b[0;34m\u001b[0m\u001b[0;34m\u001b[0m\u001b[0m\n\u001b[0m",
      "\u001b[0;31mIndexError\u001b[0m: index 80 is out of bounds for axis 0 with size 1"
     ]
    }
   ],
   "source": [
    "frequencia_range3 = range(198000,199000,10)\n",
    "sample_freq = 600000\n",
    "npontos3 = 1500\n",
    "componentes3 = [componente_precisa(dados[80,:npontos3]*k,frequencia_i,sample_freq, fator_zeros=100000) for frequencia_i in frequencia_range3]"
   ]
  },
  {
   "cell_type": "code",
   "execution_count": 58,
   "metadata": {
    "ExecuteTime": {
     "end_time": "2021-10-20T14:11:58.139756Z",
     "start_time": "2021-10-20T14:11:57.767131Z"
    }
   },
   "outputs": [
    {
     "ename": "IndexError",
     "evalue": "index 80 is out of bounds for axis 0 with size 1",
     "output_type": "error",
     "traceback": [
      "\u001b[0;31m---------------------------------------------------------------------------\u001b[0m",
      "\u001b[0;31mIndexError\u001b[0m                                Traceback (most recent call last)",
      "\u001b[0;32m/tmp/ipykernel_6414/555705107.py\u001b[0m in \u001b[0;36m<module>\u001b[0;34m\u001b[0m\n\u001b[1;32m      2\u001b[0m \u001b[0msample_freq\u001b[0m \u001b[0;34m=\u001b[0m \u001b[0;36m600000\u001b[0m\u001b[0;34m\u001b[0m\u001b[0;34m\u001b[0m\u001b[0m\n\u001b[1;32m      3\u001b[0m \u001b[0mnpontos4\u001b[0m \u001b[0;34m=\u001b[0m \u001b[0;36m600\u001b[0m\u001b[0;34m\u001b[0m\u001b[0;34m\u001b[0m\u001b[0m\n\u001b[0;32m----> 4\u001b[0;31m \u001b[0mcomponentes4\u001b[0m \u001b[0;34m=\u001b[0m \u001b[0;34m[\u001b[0m\u001b[0mcomponente_precisa\u001b[0m\u001b[0;34m(\u001b[0m\u001b[0mdados\u001b[0m\u001b[0;34m[\u001b[0m\u001b[0;36m80\u001b[0m\u001b[0;34m,\u001b[0m\u001b[0;34m:\u001b[0m\u001b[0mnpontos4\u001b[0m\u001b[0;34m]\u001b[0m\u001b[0;34m*\u001b[0m\u001b[0mk\u001b[0m\u001b[0;34m,\u001b[0m\u001b[0mfrequencia_i\u001b[0m\u001b[0;34m,\u001b[0m\u001b[0msample_freq\u001b[0m\u001b[0;34m,\u001b[0m \u001b[0mfator_zeros\u001b[0m\u001b[0;34m=\u001b[0m\u001b[0;36m100000\u001b[0m\u001b[0;34m)\u001b[0m \u001b[0;32mfor\u001b[0m \u001b[0mfrequencia_i\u001b[0m \u001b[0;32min\u001b[0m \u001b[0mfrequencia_range4\u001b[0m\u001b[0;34m]\u001b[0m\u001b[0;34m\u001b[0m\u001b[0;34m\u001b[0m\u001b[0m\n\u001b[0m",
      "\u001b[0;32m/tmp/ipykernel_6414/555705107.py\u001b[0m in \u001b[0;36m<listcomp>\u001b[0;34m(.0)\u001b[0m\n\u001b[1;32m      2\u001b[0m \u001b[0msample_freq\u001b[0m \u001b[0;34m=\u001b[0m \u001b[0;36m600000\u001b[0m\u001b[0;34m\u001b[0m\u001b[0;34m\u001b[0m\u001b[0m\n\u001b[1;32m      3\u001b[0m \u001b[0mnpontos4\u001b[0m \u001b[0;34m=\u001b[0m \u001b[0;36m600\u001b[0m\u001b[0;34m\u001b[0m\u001b[0;34m\u001b[0m\u001b[0m\n\u001b[0;32m----> 4\u001b[0;31m \u001b[0mcomponentes4\u001b[0m \u001b[0;34m=\u001b[0m \u001b[0;34m[\u001b[0m\u001b[0mcomponente_precisa\u001b[0m\u001b[0;34m(\u001b[0m\u001b[0mdados\u001b[0m\u001b[0;34m[\u001b[0m\u001b[0;36m80\u001b[0m\u001b[0;34m,\u001b[0m\u001b[0;34m:\u001b[0m\u001b[0mnpontos4\u001b[0m\u001b[0;34m]\u001b[0m\u001b[0;34m*\u001b[0m\u001b[0mk\u001b[0m\u001b[0;34m,\u001b[0m\u001b[0mfrequencia_i\u001b[0m\u001b[0;34m,\u001b[0m\u001b[0msample_freq\u001b[0m\u001b[0;34m,\u001b[0m \u001b[0mfator_zeros\u001b[0m\u001b[0;34m=\u001b[0m\u001b[0;36m100000\u001b[0m\u001b[0;34m)\u001b[0m \u001b[0;32mfor\u001b[0m \u001b[0mfrequencia_i\u001b[0m \u001b[0;32min\u001b[0m \u001b[0mfrequencia_range4\u001b[0m\u001b[0;34m]\u001b[0m\u001b[0;34m\u001b[0m\u001b[0;34m\u001b[0m\u001b[0m\n\u001b[0m",
      "\u001b[0;31mIndexError\u001b[0m: index 80 is out of bounds for axis 0 with size 1"
     ]
    }
   ],
   "source": [
    "frequencia_range4 = range(198000,199000,10)\n",
    "sample_freq = 600000\n",
    "npontos4 = 600\n",
    "componentes4 = [componente_precisa(dados[80,:npontos4]*k,frequencia_i,sample_freq, fator_zeros=100000) for frequencia_i in frequencia_range4]"
   ]
  },
  {
   "cell_type": "code",
   "execution_count": 59,
   "metadata": {
    "ExecuteTime": {
     "end_time": "2021-10-20T14:14:42.731774Z",
     "start_time": "2021-10-20T14:14:42.498780Z"
    }
   },
   "outputs": [
    {
     "ename": "NameError",
     "evalue": "name 'componentes' is not defined",
     "output_type": "error",
     "traceback": [
      "\u001b[0;31m---------------------------------------------------------------------------\u001b[0m",
      "\u001b[0;31mNameError\u001b[0m                                 Traceback (most recent call last)",
      "\u001b[0;32m/tmp/ipykernel_6414/2460007021.py\u001b[0m in \u001b[0;36m<module>\u001b[0;34m\u001b[0m\n\u001b[1;32m      1\u001b[0m \u001b[0mplt\u001b[0m\u001b[0;34m.\u001b[0m\u001b[0mfigure\u001b[0m\u001b[0;34m(\u001b[0m\u001b[0mfigsize\u001b[0m\u001b[0;34m=\u001b[0m\u001b[0;34m(\u001b[0m\u001b[0;36m30\u001b[0m\u001b[0;34m,\u001b[0m\u001b[0;36m5\u001b[0m\u001b[0;34m)\u001b[0m\u001b[0;34m)\u001b[0m\u001b[0;34m\u001b[0m\u001b[0;34m\u001b[0m\u001b[0m\n\u001b[0;32m----> 2\u001b[0;31m \u001b[0mplt\u001b[0m\u001b[0;34m.\u001b[0m\u001b[0mplot\u001b[0m\u001b[0;34m(\u001b[0m\u001b[0mfrequencia_range\u001b[0m\u001b[0;34m,\u001b[0m\u001b[0mcomponentes\u001b[0m\u001b[0;34m,\u001b[0m\u001b[0;34m'bx-'\u001b[0m\u001b[0;34m,\u001b[0m\u001b[0mlabel\u001b[0m\u001b[0;34m=\u001b[0m\u001b[0;34mf'{npontos} pontos'\u001b[0m\u001b[0;34m)\u001b[0m\u001b[0;34m\u001b[0m\u001b[0;34m\u001b[0m\u001b[0m\n\u001b[0m\u001b[1;32m      3\u001b[0m \u001b[0mplt\u001b[0m\u001b[0;34m.\u001b[0m\u001b[0mplot\u001b[0m\u001b[0;34m(\u001b[0m\u001b[0mfrequencia_range4\u001b[0m\u001b[0;34m,\u001b[0m\u001b[0mcomponentes4\u001b[0m\u001b[0;34m,\u001b[0m\u001b[0;34m'mx-'\u001b[0m\u001b[0;34m,\u001b[0m\u001b[0mlabel\u001b[0m\u001b[0;34m=\u001b[0m\u001b[0;34mf'{npontos4} pontos'\u001b[0m\u001b[0;34m)\u001b[0m\u001b[0;34m\u001b[0m\u001b[0;34m\u001b[0m\u001b[0m\n\u001b[1;32m      4\u001b[0m \u001b[0mplt\u001b[0m\u001b[0;34m.\u001b[0m\u001b[0mplot\u001b[0m\u001b[0;34m(\u001b[0m\u001b[0mfrequencia_range3\u001b[0m\u001b[0;34m,\u001b[0m\u001b[0mcomponentes3\u001b[0m\u001b[0;34m,\u001b[0m\u001b[0;34m'gx-'\u001b[0m\u001b[0;34m,\u001b[0m\u001b[0mlabel\u001b[0m\u001b[0;34m=\u001b[0m\u001b[0;34mf'{npontos3} pontos'\u001b[0m\u001b[0;34m)\u001b[0m\u001b[0;34m\u001b[0m\u001b[0;34m\u001b[0m\u001b[0m\n\u001b[1;32m      5\u001b[0m \u001b[0mplt\u001b[0m\u001b[0;34m.\u001b[0m\u001b[0mplot\u001b[0m\u001b[0;34m(\u001b[0m\u001b[0mfrequencia_range2\u001b[0m\u001b[0;34m,\u001b[0m\u001b[0mcomponentes2\u001b[0m\u001b[0;34m,\u001b[0m\u001b[0;34m'rx-'\u001b[0m\u001b[0;34m,\u001b[0m\u001b[0mlabel\u001b[0m\u001b[0;34m=\u001b[0m\u001b[0;34mf'{npontos2} pontos'\u001b[0m\u001b[0;34m)\u001b[0m\u001b[0;34m\u001b[0m\u001b[0;34m\u001b[0m\u001b[0m\n",
      "\u001b[0;31mNameError\u001b[0m: name 'componentes' is not defined"
     ]
    },
    {
     "data": {
      "text/plain": [
       "<Figure size 2160x360 with 0 Axes>"
      ]
     },
     "metadata": {},
     "output_type": "display_data"
    }
   ],
   "source": [
    "plt.figure(figsize=(30,5))\n",
    "plt.plot(frequencia_range,componentes,'bx-',label=f'{npontos} pontos')\n",
    "plt.plot(frequencia_range4,componentes4,'mx-',label=f'{npontos4} pontos')\n",
    "plt.plot(frequencia_range3,componentes3,'gx-',label=f'{npontos3} pontos')\n",
    "plt.plot(frequencia_range2,componentes2,'rx-',label=f'{npontos2} pontos')\n",
    "plt.xlabel(f'Amplitude')\n",
    "plt.ylabel(f'Frequencia [Hz]')\n",
    "plt.legend()\n",
    "plt.grid()"
   ]
  },
  {
   "cell_type": "code",
   "execution_count": 60,
   "metadata": {
    "ExecuteTime": {
     "end_time": "2021-10-20T01:39:31.151792Z",
     "start_time": "2021-10-20T01:39:31.146091Z"
    }
   },
   "outputs": [
    {
     "data": {
      "text/plain": [
       "1"
      ]
     },
     "execution_count": 60,
     "metadata": {},
     "output_type": "execute_result"
    }
   ],
   "source": [
    "dados.shape[0]"
   ]
  },
  {
   "cell_type": "code",
   "execution_count": 61,
   "metadata": {
    "ExecuteTime": {
     "end_time": "2021-10-20T13:54:36.572441Z",
     "start_time": "2021-10-20T13:53:47.748216Z"
    }
   },
   "outputs": [],
   "source": [
    "frequencia = 198190\n",
    "amplitudes10=np.zeros(dados.shape[0])\n",
    "freqs10=np.zeros(dados.shape[0])\n",
    "nframes=25\n",
    "nframes=dados.shape[0]\n",
    "x = range(dados.shape[0])\n",
    "for idx,frame in enumerate(range(nframes)):\n",
    "    frequencia_range2 = range(frequencia-50,frequencia+60,10)\n",
    "    sample_freq = 600000\n",
    "    npontos2 = 6000\n",
    "    componentes2 = [componente_precisa(dados[frame,:npontos2]*k,frequencia_i,sample_freq, fator_zeros=100000) for frequencia_i in frequencia_range2]\n",
    "    amplitudes10[idx] = np.max(componentes2)\n",
    "    frequencia = frequencia_range2[np.argmax(componentes2)]\n",
    "    freqs10[idx] = frequencia"
   ]
  },
  {
   "cell_type": "code",
   "execution_count": 62,
   "metadata": {
    "ExecuteTime": {
     "end_time": "2021-10-20T13:54:36.831424Z",
     "start_time": "2021-10-20T13:54:36.575300Z"
    }
   },
   "outputs": [
    {
     "data": {
      "image/png": "[encoded data removed]",
      "text/plain": [
       "<Figure size 1440x360 with 2 Axes>"
      ]
     },
     "metadata": {
      "needs_background": "light"
     },
     "output_type": "display_data"
    }
   ],
   "source": [
    "plt.figure(figsize=(20,5))\n",
    "plt.subplot(1,2,1)\n",
    "plt.plot(amplitudes10[:nframes])\n",
    "plt.title('Amplitudes')\n",
    "plt.subplot(1,2,2)\n",
    "plt.plot(freqs10[:nframes])\n",
    "plt.gca().get_yaxis().get_major_formatter().set_useOffset(False)\n",
    "plt.title('Frequencias')\n",
    "plt.suptitle('Dados calculados pelo python')\n",
    "plt.show()"
   ]
  },
  {
   "cell_type": "code",
   "execution_count": 63,
   "metadata": {
    "ExecuteTime": {
     "end_time": "2021-10-20T13:58:48.570523Z",
     "start_time": "2021-10-20T13:56:28.198469Z"
    }
   },
   "outputs": [],
   "source": [
    "frequencia = 198190\n",
    "amplitudes=np.zeros(dados.shape[0])\n",
    "freqs=np.zeros(dados.shape[0])\n",
    "nframes=25\n",
    "nframes=dados.shape[0]\n",
    "x = range(dados.shape[0])\n",
    "for idx,frame in enumerate(range(nframes)):\n",
    "    frequencia_range2 = range(frequencia-50,frequencia+60,10)\n",
    "    sample_freq = 600000\n",
    "    npontos2 = 6000\n",
    "    componentes2 = [componente_precisa(dados[frame,:npontos2]*k,frequencia_i,sample_freq, fator_zeros=100000) for frequencia_i in frequencia_range2]\n",
    "    #amplitudes[idx] = np.max(componentes2)\n",
    "    frequencia = frequencia_range2[np.argmax(componentes2)]\n",
    "    frequencia_range3 = range(frequencia-10,frequencia+11,1)\n",
    "    componentes3 = [componente_precisa(dados[frame,:npontos2]*k,frequencia_i,sample_freq, fator_zeros=100000) for frequencia_i in frequencia_range3]\n",
    "    amplitudes[idx] = np.max(componentes3)\n",
    "    frequencia = frequencia_range3[np.argmax(componentes3)]\n",
    "    freqs[idx] = frequencia"
   ]
  },
  {
   "cell_type": "code",
   "execution_count": 64,
   "metadata": {
    "ExecuteTime": {
     "end_time": "2021-10-20T14:19:38.505493Z",
     "start_time": "2021-10-20T14:19:38.229438Z"
    }
   },
   "outputs": [
    {
     "data": {
      "image/png": "[encoded data removed]",
      "text/plain": [
       "<Figure size 1440x360 with 2 Axes>"
      ]
     },
     "metadata": {
      "needs_background": "light"
     },
     "output_type": "display_data"
    }
   ],
   "source": [
    "plt.figure(figsize=(20,5))\n",
    "plt.subplot(1,2,1)\n",
    "plt.plot(amplitudes[:nframes])\n",
    "plt.title('Amplitudes')\n",
    "plt.subplot(1,2,2)\n",
    "plt.plot(freqs[:nframes])\n",
    "plt.gca().get_yaxis().get_major_formatter().set_useOffset(False)\n",
    "plt.title('Frequencias')\n",
    "plt.suptitle('Dados calculados pelo python, usando 6000 pontos')\n",
    "plt.show()"
   ]
  },
  {
   "cell_type": "code",
   "execution_count": 65,
   "metadata": {
    "ExecuteTime": {
     "end_time": "2021-10-20T14:18:43.538521Z",
     "start_time": "2021-10-20T14:18:43.235183Z"
    }
   },
   "outputs": [
    {
     "data": {
      "image/png": "[encoded data removed]",
      "text/plain": [
       "<Figure size 2160x360 with 2 Axes>"
      ]
     },
     "metadata": {
      "needs_background": "light"
     },
     "output_type": "display_data"
    }
   ],
   "source": [
    "plt.figure(figsize=(30,5))\n",
    "plt.subplot(1,2,1)\n",
    "plt.plot(amplitudes[:nframes],label=\"1 em 1 Hz\")\n",
    "plt.plot(amplitudes10[:nframes],label=\"10 em 10 Hz\")\n",
    "plt.title('Amplitudes')\n",
    "plt.legend()\n",
    "plt.subplot(1,2,2)\n",
    "plt.plot(freqs[:nframes],label=\"1 em 1 Hz\")\n",
    "plt.plot(freqs10[:nframes],label=\"10 em 10 Hz\")\n",
    "plt.gca().get_yaxis().get_major_formatter().set_useOffset(False)\n",
    "plt.title('Frequencias')\n",
    "plt.legend()\n",
    "plt.suptitle('Dados calculados pelo python, utilizando 6000 pontos')\n",
    "plt.show()"
   ]
  },
  {
   "cell_type": "code",
   "execution_count": 66,
   "metadata": {
    "ExecuteTime": {
     "end_time": "2021-10-20T14:19:30.949876Z",
     "start_time": "2021-10-20T14:19:26.260991Z"
    }
   },
   "outputs": [],
   "source": [
    "frequencia = 198190\n",
    "amplitudes10=np.zeros(dados.shape[0])\n",
    "freqs10=np.zeros(dados.shape[0])\n",
    "nframes=25\n",
    "nframes=dados.shape[0]\n",
    "x = range(dados.shape[0])\n",
    "for idx,frame in enumerate(range(nframes)):\n",
    "    frequencia_range2 = range(frequencia-50,frequencia+60,10)\n",
    "    sample_freq = 600000\n",
    "    npontos2 = 600\n",
    "    componentes2 = [componente_precisa(dados[frame,:npontos2]*k,frequencia_i,sample_freq, fator_zeros=100000) for frequencia_i in frequencia_range2]\n",
    "    amplitudes10[idx] = np.max(componentes2)\n",
    "    frequencia = frequencia_range2[np.argmax(componentes2)]\n",
    "    freqs10[idx] = frequencia\n",
    "    "
   ]
  },
  {
   "cell_type": "code",
   "execution_count": 67,
   "metadata": {
    "ExecuteTime": {
     "end_time": "2021-10-20T15:30:20.549027Z",
     "start_time": "2021-10-20T15:30:20.218312Z"
    }
   },
   "outputs": [
    {
     "data": {
      "image/png": "[encoded data removed]",
      "text/plain": [
       "<Figure size 1440x360 with 2 Axes>"
      ]
     },
     "metadata": {
      "needs_background": "light"
     },
     "output_type": "display_data"
    }
   ],
   "source": [
    "plt.figure(figsize=(20,5))\n",
    "plt.subplot(1,2,1)\n",
    "plt.plot(amplitudes10[:nframes])\n",
    "plt.title('Amplitudes')\n",
    "plt.xlabel('Frame (1 a cada 30s aprox)')\n",
    "plt.ylabel('Amplitude na frequência principal (V)')\n",
    "plt.subplot(1,2,2)\n",
    "plt.plot(freqs10[:nframes])\n",
    "plt.gca().get_yaxis().get_major_formatter().set_useOffset(False)\n",
    "plt.title('Frequencias')\n",
    "plt.xlabel('Frame (1 a cada 30s aprox)')\n",
    "plt.ylabel('Frequência principal (Hz)')\n",
    "plt.suptitle(r'Dados medidos no STM32. Contas pelo python, usando 600 pontos. $F_{sinal}=200kHz$. $F_{sampl}=600kHz$')\n",
    "plt.show()"
   ]
  },
  {
   "cell_type": "code",
   "execution_count": null,
   "metadata": {},
   "outputs": [],
   "source": []
  }
 ],
 "metadata": {
  "kernelspec": {
   "display_name": "Python 3 (ipykernel)",
   "language": "python",
   "name": "python3"
  },
  "language_info": {
   "codemirror_mode": {
    "name": "ipython",
    "version": 3
   },
   "file_extension": ".py",
   "mimetype": "text/x-python",
   "name": "python",
   "nbconvert_exporter": "python",
   "pygments_lexer": "ipython3",
   "version": "3.8.10"
  }
 },
 "nbformat": 4,
 "nbformat_minor": 4
}
